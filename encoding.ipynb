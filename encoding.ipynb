{
 "cells": [
  {
   "cell_type": "code",
   "execution_count": 2,
   "metadata": {},
   "outputs": [
    {
     "name": "stdout",
     "output_type": "stream",
     "text": [
      "\n",
      "Class Mapping:\n",
      "bmw --> 0\n",
      "ford --> 1\n",
      "suzuki --> 2\n",
      "toyota --> 3\n"
     ]
    }
   ],
   "source": [
    "from sklearn import preprocessing\n",
    "\n",
    "label_encoder = preprocessing.LabelEncoder()\n",
    "\n",
    "input_classes = ['suzuki', 'ford', 'suzuki', 'toyota', 'ford', 'bmw']\n",
    "\n",
    "label_encoder.fit(input_classes)\n",
    "print('\\nClass Mapping:')\n",
    "for i, item in enumerate(label_encoder.classes_):\n",
    "        print(item, '-->', i)\n"
   ]
  },
  {
   "cell_type": "code",
   "execution_count": 4,
   "metadata": {},
   "outputs": [
    {
     "name": "stdout",
     "output_type": "stream",
     "text": [
      "\n",
      "Labesl =  ['toyota', 'ford', 'suzuki']\n",
      "\n",
      "Encoded labels = [3, 1, 2]\n"
     ]
    }
   ],
   "source": [
    "labels = ['toyota', 'ford', 'suzuki']\n",
    "\n",
    "encoded_labels = label_encoder.transform(labels)\n",
    "\n",
    "print('\\nLabesl = ', labels)\n",
    "print('\\nEncoded labels =', list(encoded_labels))"
   ]
  },
  {
   "cell_type": "code",
   "execution_count": null,
   "metadata": {},
   "outputs": [],
   "source": []
  }
 ],
 "metadata": {
  "kernelspec": {
   "display_name": "Python 3",
   "language": "python",
   "name": "python3"
  },
  "language_info": {
   "codemirror_mode": {
    "name": "ipython",
    "version": 3
   },
   "file_extension": ".py",
   "mimetype": "text/x-python",
   "name": "python",
   "nbconvert_exporter": "python",
   "pygments_lexer": "ipython3",
   "version": "3.7.0"
  }
 },
 "nbformat": 4,
 "nbformat_minor": 2
}
